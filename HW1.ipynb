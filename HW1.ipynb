{
 "cells": [
  {
   "cell_type": "code",
   "execution_count": 1,
   "metadata": {},
   "outputs": [],
   "source": [
    "import pandas as pd\n",
    "import numpy as np\n",
    "from scipy import stats\n",
    "import statsmodels.formula.api as smf\n",
    "import matplotlib.pyplot as plt\n",
    "from statsmodels.graphics.gofplots import qqplot\n",
    "import seaborn as sns\n",
    "import scipy.optimize as sco\n",
    "import numpy.random as npr"
   ]
  },
  {
   "cell_type": "code",
   "execution_count": 2,
   "metadata": {},
   "outputs": [],
   "source": [
    "xls = pd.ExcelFile(\"HW1_Due20180207.xlsx\")\n",
    "data = pd.read_excel(xls, \"DataSource\")\n",
    "universe = pd.read_excel(xls, \"DataSource_CAPMAssetClasses\")"
   ]
  },
  {
   "cell_type": "markdown",
   "metadata": {},
   "source": [
    "# Problem 1"
   ]
  },
  {
   "cell_type": "code",
   "execution_count": 3,
   "metadata": {},
   "outputs": [
    {
     "data": {
      "text/html": [
       "<div>\n",
       "<style scoped>\n",
       "    .dataframe tbody tr th:only-of-type {\n",
       "        vertical-align: middle;\n",
       "    }\n",
       "\n",
       "    .dataframe tbody tr th {\n",
       "        vertical-align: top;\n",
       "    }\n",
       "\n",
       "    .dataframe thead th {\n",
       "        text-align: right;\n",
       "    }\n",
       "</style>\n",
       "<table border=\"1\" class=\"dataframe\">\n",
       "  <thead>\n",
       "    <tr style=\"text-align: right;\">\n",
       "      <th></th>\n",
       "      <th>Price</th>\n",
       "    </tr>\n",
       "    <tr>\n",
       "      <th>Date</th>\n",
       "      <th></th>\n",
       "    </tr>\n",
       "  </thead>\n",
       "  <tbody>\n",
       "    <tr>\n",
       "      <th>1999-01-15</th>\n",
       "      <td>29.24</td>\n",
       "    </tr>\n",
       "    <tr>\n",
       "      <th>1999-01-19</th>\n",
       "      <td>29.24</td>\n",
       "    </tr>\n",
       "    <tr>\n",
       "      <th>1999-01-20</th>\n",
       "      <td>28.6</td>\n",
       "    </tr>\n",
       "    <tr>\n",
       "      <th>1999-01-21</th>\n",
       "      <td>30.92</td>\n",
       "    </tr>\n",
       "    <tr>\n",
       "      <th>1999-01-22</th>\n",
       "      <td>31.95</td>\n",
       "    </tr>\n",
       "  </tbody>\n",
       "</table>\n",
       "</div>"
      ],
      "text/plain": [
       "            Price\n",
       "Date             \n",
       "1999-01-15  29.24\n",
       "1999-01-19  29.24\n",
       "1999-01-20   28.6\n",
       "1999-01-21  30.92\n",
       "1999-01-22  31.95"
      ]
     },
     "execution_count": 3,
     "metadata": {},
     "output_type": "execute_result"
    }
   ],
   "source": [
    "VIX = data[['VIX Index', 'Unnamed: 1']]\n",
    "VIX = VIX.rename(index=str, columns={'VIX Index':'Date', 'Unnamed: 1':'Price'})\n",
    "VIX = VIX.iloc[1:]\n",
    "VIX = VIX.set_index('Date')\n",
    "VIX.dropna(inplace=True)\n",
    "VIX.head()"
   ]
  },
  {
   "cell_type": "markdown",
   "metadata": {},
   "source": [
    "#1 transform VIX daily price time series to daily return time series"
   ]
  },
  {
   "cell_type": "code",
   "execution_count": 4,
   "metadata": {},
   "outputs": [
    {
     "data": {
      "text/html": [
       "<div>\n",
       "<style scoped>\n",
       "    .dataframe tbody tr th:only-of-type {\n",
       "        vertical-align: middle;\n",
       "    }\n",
       "\n",
       "    .dataframe tbody tr th {\n",
       "        vertical-align: top;\n",
       "    }\n",
       "\n",
       "    .dataframe thead th {\n",
       "        text-align: right;\n",
       "    }\n",
       "</style>\n",
       "<table border=\"1\" class=\"dataframe\">\n",
       "  <thead>\n",
       "    <tr style=\"text-align: right;\">\n",
       "      <th></th>\n",
       "      <th>Price</th>\n",
       "      <th>daily_ret</th>\n",
       "    </tr>\n",
       "    <tr>\n",
       "      <th>Date</th>\n",
       "      <th></th>\n",
       "      <th></th>\n",
       "    </tr>\n",
       "  </thead>\n",
       "  <tbody>\n",
       "    <tr>\n",
       "      <th>1999-01-19</th>\n",
       "      <td>29.24</td>\n",
       "      <td>0.000000</td>\n",
       "    </tr>\n",
       "    <tr>\n",
       "      <th>1999-01-20</th>\n",
       "      <td>28.6</td>\n",
       "      <td>-0.021888</td>\n",
       "    </tr>\n",
       "    <tr>\n",
       "      <th>1999-01-21</th>\n",
       "      <td>30.92</td>\n",
       "      <td>0.081119</td>\n",
       "    </tr>\n",
       "    <tr>\n",
       "      <th>1999-01-22</th>\n",
       "      <td>31.95</td>\n",
       "      <td>0.033312</td>\n",
       "    </tr>\n",
       "    <tr>\n",
       "      <th>1999-01-25</th>\n",
       "      <td>31.13</td>\n",
       "      <td>-0.025665</td>\n",
       "    </tr>\n",
       "  </tbody>\n",
       "</table>\n",
       "</div>"
      ],
      "text/plain": [
       "            Price  daily_ret\n",
       "Date                        \n",
       "1999-01-19  29.24   0.000000\n",
       "1999-01-20   28.6  -0.021888\n",
       "1999-01-21  30.92   0.081119\n",
       "1999-01-22  31.95   0.033312\n",
       "1999-01-25  31.13  -0.025665"
      ]
     },
     "execution_count": 4,
     "metadata": {},
     "output_type": "execute_result"
    }
   ],
   "source": [
    "VIX['daily_ret'] = VIX['Price'].pct_change()\n",
    "VIX.dropna(inplace=True)\n",
    "VIX.head()"
   ]
  },
  {
   "cell_type": "markdown",
   "metadata": {},
   "source": [
    "#2 calculate the sample moments for the VIX daily returns"
   ]
  },
  {
   "cell_type": "code",
   "execution_count": 5,
   "metadata": {},
   "outputs": [
    {
     "name": "stdout",
     "output_type": "stream",
     "text": [
      "Mean of VIX daily returns: 0.002357136485960589\n"
     ]
    }
   ],
   "source": [
    "VIX_mean = VIX['daily_ret'].mean()\n",
    "print('Mean of VIX daily returns: ' + str(VIX_mean))"
   ]
  },
  {
   "cell_type": "code",
   "execution_count": 6,
   "metadata": {},
   "outputs": [
    {
     "name": "stdout",
     "output_type": "stream",
     "text": [
      "Skewness of VIX daily returns: 2.0147831512243357\n"
     ]
    }
   ],
   "source": [
    "VIX_skewness = VIX['daily_ret'].skew()\n",
    "print('Skewness of VIX daily returns: ' + str(VIX_skewness))"
   ]
  },
  {
   "cell_type": "code",
   "execution_count": 7,
   "metadata": {},
   "outputs": [
    {
     "name": "stdout",
     "output_type": "stream",
     "text": [
      "Kurtosis of VIX_kurtosis: 19.302523257228803\n"
     ]
    }
   ],
   "source": [
    "VIX_kurtosis = VIX['daily_ret'].kurtosis()\n",
    "print('Kurtosis of VIX_kurtosis: ' + str(VIX_kurtosis))"
   ]
  },
  {
   "cell_type": "markdown",
   "metadata": {},
   "source": [
    "#3 Test whether the VIX daily returns were normally distributed or not"
   ]
  },
  {
   "cell_type": "code",
   "execution_count": 8,
   "metadata": {},
   "outputs": [
    {
     "data": {
      "image/png": "[encoded data removed]",
      "text/plain": [
       "<Figure size 432x288 with 1 Axes>"
      ]
     },
     "metadata": {
      "needs_background": "light"
     },
     "output_type": "display_data"
    }
   ],
   "source": [
    "VIX['daily_ret'].hist(bins=50)\n",
    "plt.show()"
   ]
  },
  {
   "cell_type": "code",
   "execution_count": 9,
   "metadata": {},
   "outputs": [
    {
     "data": {
      "image/png": "[encoded data removed]",
      "text/plain": [
       "<Figure size 432x288 with 1 Axes>"
      ]
     },
     "execution_count": 9,
     "metadata": {},
     "output_type": "execute_result"
    },
    {
     "data": {
      "image/png": "[encoded data removed]",
      "text/plain": [
       "<Figure size 432x288 with 1 Axes>"
      ]
     },
     "metadata": {
      "needs_background": "light"
     },
     "output_type": "display_data"
    }
   ],
   "source": [
    "qqplot(VIX['daily_ret'], line='s')"
   ]
  },
  {
   "cell_type": "markdown",
   "metadata": {},
   "source": [
    "Histrogram is not symetric and Normal Probability Plot shows that there are some outliers, the graph is more likely skew to the right"
   ]
  },
  {
   "cell_type": "markdown",
   "metadata": {},
   "source": [
    "KS-test p-value = 0 with statistic = 0.433. Jarque-Bera test also has p-value =0 with a large statistic = 81178.60 which suggested that null hypothesis must be reject, VIX daily return is not normal distributed."
   ]
  },
  {
   "cell_type": "code",
   "execution_count": 10,
   "metadata": {},
   "outputs": [
    {
     "data": {
      "text/plain": [
       "KstestResult(statistic=0.43284430209658664, pvalue=0.0)"
      ]
     },
     "execution_count": 10,
     "metadata": {},
     "output_type": "execute_result"
    }
   ],
   "source": [
    "stats.kstest(VIX['daily_ret'], 'norm')"
   ]
  },
  {
   "cell_type": "code",
   "execution_count": 11,
   "metadata": {},
   "outputs": [
    {
     "data": {
      "text/plain": [
       "(81178.59699074028, 0.0)"
      ]
     },
     "execution_count": 11,
     "metadata": {},
     "output_type": "execute_result"
    }
   ],
   "source": [
    "stats.jarque_bera(VIX['daily_ret'])"
   ]
  },
  {
   "cell_type": "markdown",
   "metadata": {},
   "source": [
    "Conclusion: VIX daily return is not normally distributed"
   ]
  },
  {
   "cell_type": "markdown",
   "metadata": {},
   "source": [
    "# Problem 2"
   ]
  },
  {
   "cell_type": "code",
   "execution_count": 12,
   "metadata": {},
   "outputs": [
    {
     "name": "stderr",
     "output_type": "stream",
     "text": [
      "/Users/keyang/anaconda3/lib/python3.7/site-packages/pandas/core/frame.py:3781: SettingWithCopyWarning: \n",
      "A value is trying to be set on a copy of a slice from a DataFrame\n",
      "\n",
      "See the caveats in the documentation: http://pandas.pydata.org/pandas-docs/stable/indexing.html#indexing-view-versus-copy\n",
      "  return super(DataFrame, self).rename(**kwargs)\n"
     ]
    },
    {
     "data": {
      "text/html": [
       "<div>\n",
       "<style scoped>\n",
       "    .dataframe tbody tr th:only-of-type {\n",
       "        vertical-align: middle;\n",
       "    }\n",
       "\n",
       "    .dataframe tbody tr th {\n",
       "        vertical-align: top;\n",
       "    }\n",
       "\n",
       "    .dataframe thead th {\n",
       "        text-align: right;\n",
       "    }\n",
       "</style>\n",
       "<table border=\"1\" class=\"dataframe\">\n",
       "  <thead>\n",
       "    <tr style=\"text-align: right;\">\n",
       "      <th></th>\n",
       "      <th>Price</th>\n",
       "    </tr>\n",
       "    <tr>\n",
       "      <th>Date</th>\n",
       "      <th></th>\n",
       "    </tr>\n",
       "  </thead>\n",
       "  <tbody>\n",
       "    <tr>\n",
       "      <th>1999-01-15</th>\n",
       "      <td>124.375</td>\n",
       "    </tr>\n",
       "    <tr>\n",
       "      <th>1999-01-19</th>\n",
       "      <td>125.188</td>\n",
       "    </tr>\n",
       "    <tr>\n",
       "      <th>1999-01-20</th>\n",
       "      <td>126.188</td>\n",
       "    </tr>\n",
       "    <tr>\n",
       "      <th>1999-01-21</th>\n",
       "      <td>122.844</td>\n",
       "    </tr>\n",
       "    <tr>\n",
       "      <th>1999-01-22</th>\n",
       "      <td>122.562</td>\n",
       "    </tr>\n",
       "  </tbody>\n",
       "</table>\n",
       "</div>"
      ],
      "text/plain": [
       "              Price\n",
       "Date               \n",
       "1999-01-15  124.375\n",
       "1999-01-19  125.188\n",
       "1999-01-20  126.188\n",
       "1999-01-21  122.844\n",
       "1999-01-22  122.562"
      ]
     },
     "execution_count": 12,
     "metadata": {},
     "output_type": "execute_result"
    }
   ],
   "source": [
    "SPY = data[['SPY ETF', 'Unnamed: 4']]\n",
    "SPY.rename(index=str, columns={'SPY ETF':'Date', 'Unnamed: 4':'Price'}, inplace=True)\n",
    "SPY = SPY.iloc[1:]\n",
    "SPY.set_index('Date', inplace=True)\n",
    "SPY.dropna(inplace=True)\n",
    "SPY.head()"
   ]
  },
  {
   "cell_type": "markdown",
   "metadata": {},
   "source": [
    "#1 Calculate rolling 252-day annualied SPY return volatilities, and plot the time series"
   ]
  },
  {
   "cell_type": "code",
   "execution_count": 13,
   "metadata": {},
   "outputs": [],
   "source": [
    "SPY['daily_ret'] = SPY['Price'].pct_change()\n",
    "SPY['rolling_daily_vol']=SPY['daily_ret'].rolling(window=252).std()\n",
    "SPY['annualied_vol'] = SPY['rolling_daily_vol'] * np.sqrt(252)\n",
    "#SPY.head(253)"
   ]
  },
  {
   "cell_type": "code",
   "execution_count": 14,
   "metadata": {},
   "outputs": [
    {
     "data": {
      "image/png": "[encoded data removed]",
      "text/plain": [
       "<Figure size 432x288 with 1 Axes>"
      ]
     },
     "metadata": {
      "needs_background": "light"
     },
     "output_type": "display_data"
    }
   ],
   "source": [
    "SPY['annualied_vol'].plot()\n",
    "plt.show()"
   ]
  },
  {
   "cell_type": "markdown",
   "metadata": {},
   "source": [
    "#2. Calculate rolling 252-day annualized SPY return semi-volatility (based on negative daily returns) , and plot the time series"
   ]
  },
  {
   "cell_type": "code",
   "execution_count": 15,
   "metadata": {},
   "outputs": [
    {
     "name": "stderr",
     "output_type": "stream",
     "text": [
      "/Users/keyang/anaconda3/lib/python3.7/site-packages/ipykernel_launcher.py:1: RuntimeWarning: invalid value encountered in minimum\n",
      "  \"\"\"Entry point for launching an IPython kernel.\n"
     ]
    },
    {
     "data": {
      "text/html": [
       "<div>\n",
       "<style scoped>\n",
       "    .dataframe tbody tr th:only-of-type {\n",
       "        vertical-align: middle;\n",
       "    }\n",
       "\n",
       "    .dataframe tbody tr th {\n",
       "        vertical-align: top;\n",
       "    }\n",
       "\n",
       "    .dataframe thead th {\n",
       "        text-align: right;\n",
       "    }\n",
       "</style>\n",
       "<table border=\"1\" class=\"dataframe\">\n",
       "  <thead>\n",
       "    <tr style=\"text-align: right;\">\n",
       "      <th></th>\n",
       "      <th>Price</th>\n",
       "      <th>daily_ret</th>\n",
       "      <th>rolling_daily_vol</th>\n",
       "      <th>annualied_vol</th>\n",
       "      <th>neg_daily_ret</th>\n",
       "      <th>rolling_semi_vol</th>\n",
       "      <th>semi_annualied_vol</th>\n",
       "    </tr>\n",
       "    <tr>\n",
       "      <th>Date</th>\n",
       "      <th></th>\n",
       "      <th></th>\n",
       "      <th></th>\n",
       "      <th></th>\n",
       "      <th></th>\n",
       "      <th></th>\n",
       "      <th></th>\n",
       "    </tr>\n",
       "  </thead>\n",
       "  <tbody>\n",
       "    <tr>\n",
       "      <th>2018-12-24</th>\n",
       "      <td>234.34</td>\n",
       "      <td>-0.026423</td>\n",
       "      <td>0.010257</td>\n",
       "      <td>0.162820</td>\n",
       "      <td>-0.026423</td>\n",
       "      <td>0.007260</td>\n",
       "      <td>0.115254</td>\n",
       "    </tr>\n",
       "    <tr>\n",
       "      <th>2018-12-26</th>\n",
       "      <td>246.18</td>\n",
       "      <td>0.050525</td>\n",
       "      <td>0.010748</td>\n",
       "      <td>0.170620</td>\n",
       "      <td>0.000000</td>\n",
       "      <td>0.007261</td>\n",
       "      <td>0.115262</td>\n",
       "    </tr>\n",
       "    <tr>\n",
       "      <th>2018-12-27</th>\n",
       "      <td>248.07</td>\n",
       "      <td>0.007677</td>\n",
       "      <td>0.010760</td>\n",
       "      <td>0.170803</td>\n",
       "      <td>0.000000</td>\n",
       "      <td>0.007263</td>\n",
       "      <td>0.115296</td>\n",
       "    </tr>\n",
       "    <tr>\n",
       "      <th>2018-12-28</th>\n",
       "      <td>247.75</td>\n",
       "      <td>-0.001290</td>\n",
       "      <td>0.010760</td>\n",
       "      <td>0.170804</td>\n",
       "      <td>-0.001290</td>\n",
       "      <td>0.007261</td>\n",
       "      <td>0.115260</td>\n",
       "    </tr>\n",
       "    <tr>\n",
       "      <th>2018-12-31</th>\n",
       "      <td>249.92</td>\n",
       "      <td>0.008759</td>\n",
       "      <td>0.010774</td>\n",
       "      <td>0.171026</td>\n",
       "      <td>0.000000</td>\n",
       "      <td>0.007261</td>\n",
       "      <td>0.115260</td>\n",
       "    </tr>\n",
       "  </tbody>\n",
       "</table>\n",
       "</div>"
      ],
      "text/plain": [
       "             Price  daily_ret  rolling_daily_vol  annualied_vol  \\\n",
       "Date                                                              \n",
       "2018-12-24  234.34  -0.026423           0.010257       0.162820   \n",
       "2018-12-26  246.18   0.050525           0.010748       0.170620   \n",
       "2018-12-27  248.07   0.007677           0.010760       0.170803   \n",
       "2018-12-28  247.75  -0.001290           0.010760       0.170804   \n",
       "2018-12-31  249.92   0.008759           0.010774       0.171026   \n",
       "\n",
       "            neg_daily_ret  rolling_semi_vol  semi_annualied_vol  \n",
       "Date                                                             \n",
       "2018-12-24      -0.026423          0.007260            0.115254  \n",
       "2018-12-26       0.000000          0.007261            0.115262  \n",
       "2018-12-27       0.000000          0.007263            0.115296  \n",
       "2018-12-28      -0.001290          0.007261            0.115260  \n",
       "2018-12-31       0.000000          0.007261            0.115260  "
      ]
     },
     "execution_count": 15,
     "metadata": {},
     "output_type": "execute_result"
    }
   ],
   "source": [
    "SPY['neg_daily_ret'] = np.minimum(SPY['daily_ret'], 0)  #If return is not negative we set it as 0\n",
    "SPY['neg_daily_ret'].dropna(inplace=True)\n",
    "SPY['rolling_semi_vol']=SPY['neg_daily_ret'].rolling(window=252).std()\n",
    "SPY['semi_annualied_vol'] = SPY['rolling_semi_vol'] * np.sqrt(252)\n",
    "SPY.tail()"
   ]
  },
  {
   "cell_type": "code",
   "execution_count": 16,
   "metadata": {},
   "outputs": [
    {
     "data": {
      "image/png": "[encoded data removed]",
      "text/plain": [
       "<Figure size 432x288 with 1 Axes>"
      ]
     },
     "metadata": {
      "needs_background": "light"
     },
     "output_type": "display_data"
    }
   ],
   "source": [
    "SPY['semi_annualied_vol'].plot()\n",
    "SPY['annualied_vol'].plot()\n",
    "plt.legend()\n",
    "plt.show()\n"
   ]
  },
  {
   "cell_type": "markdown",
   "metadata": {},
   "source": [
    "#3A  calculate its shortfall probability for a daily return less than -2% "
   ]
  },
  {
   "cell_type": "code",
   "execution_count": 17,
   "metadata": {},
   "outputs": [],
   "source": [
    "SPY2018 = SPY.loc[\"2018-01-02\":]  #SPY daily returns in 2018"
   ]
  },
  {
   "cell_type": "code",
   "execution_count": 18,
   "metadata": {},
   "outputs": [
    {
     "name": "stdout",
     "output_type": "stream",
     "text": [
      "Shortfall Probablity: 0.055776892430278883\n"
     ]
    }
   ],
   "source": [
    "shortFall = SPY2018.loc[SPY2018['daily_ret']<-0.02]    #daily return less than 0.02\n",
    "prob_shortFall = shortFall.count()['daily_ret'] / SPY2018.count()['daily_ret']\n",
    "print(\"Shortfall Probablity: \"+str(prob_shortFall))"
   ]
  },
  {
   "cell_type": "markdown",
   "metadata": {},
   "source": [
    "#3B Value at Risk at 95% for daily return"
   ]
  },
  {
   "cell_type": "code",
   "execution_count": 19,
   "metadata": {},
   "outputs": [
    {
     "name": "stdout",
     "output_type": "stream",
     "text": [
      "Value at Risk at 95%: -0.02144958473986508\n"
     ]
    }
   ],
   "source": [
    "sorted_rets = sorted(SPY2018['daily_ret'])\n",
    "VaR = np.percentile(sorted_rets, 5)\n",
    "print(\"Value at Risk at 95%: \" + str(VaR))"
   ]
  },
  {
   "cell_type": "markdown",
   "metadata": {},
   "source": [
    "#3C CVaR-95% for daily return."
   ]
  },
  {
   "cell_type": "code",
   "execution_count": 20,
   "metadata": {},
   "outputs": [
    {
     "name": "stdout",
     "output_type": "stream",
     "text": [
      "Conditional Value at Risk at 95%: -0.02786116034896852\n"
     ]
    }
   ],
   "source": [
    "CVaR = SPY2018.loc[SPY2018['daily_ret']<VaR]['daily_ret'].mean()\n",
    "print(\"Conditional Value at Risk at 95%: \" + str(CVaR))"
   ]
  },
  {
   "cell_type": "markdown",
   "metadata": {},
   "source": [
    "#4 Calculate drawdowns for the SPY price times series, plot the drawdown time series, and locate the maximum drawdown for the whole period"
   ]
  },
  {
   "cell_type": "code",
   "execution_count": 21,
   "metadata": {},
   "outputs": [
    {
     "data": {
      "text/plain": [
       "Date\n",
       "1999-01-15         NaN\n",
       "1999-01-19    0.000000\n",
       "1999-01-20    0.000000\n",
       "1999-01-21   -0.026498\n",
       "1999-01-22   -0.028727\n",
       "1999-01-25   -0.018821\n",
       "1999-01-26   -0.000991\n",
       "1999-01-27   -0.012630\n",
       "1999-01-28    0.000000\n",
       "1999-01-29    0.000000\n",
       "1999-02-01   -0.005875\n",
       "1999-02-02   -0.011995\n",
       "1999-02-03   -0.001958\n",
       "1999-02-04   -0.016891\n",
       "1999-02-05   -0.028152\n",
       "1999-02-08   -0.026194\n",
       "1999-02-09   -0.047980\n",
       "1999-02-10   -0.041861\n",
       "1999-02-11   -0.019829\n",
       "1999-02-12   -0.031579\n",
       "1999-02-16   -0.037454\n",
       "1999-02-17   -0.038434\n",
       "1999-02-18   -0.030845\n",
       "1999-02-19   -0.026683\n",
       "1999-02-22   -0.000735\n",
       "1999-02-23   -0.001224\n",
       "1999-02-24   -0.018850\n",
       "1999-02-25   -0.028152\n",
       "1999-02-26   -0.032069\n",
       "1999-03-01   -0.029376\n",
       "                ...   \n",
       "2018-11-15   -0.070032\n",
       "2018-11-16   -0.067614\n",
       "2018-11-19   -0.083384\n",
       "2018-11-20   -0.100347\n",
       "2018-11-21   -0.097282\n",
       "2018-11-23   -0.103311\n",
       "2018-11-26   -0.088834\n",
       "2018-11-27   -0.085769\n",
       "2018-11-28   -0.064718\n",
       "2018-11-29   -0.066762\n",
       "2018-11-30   -0.061074\n",
       "2018-12-03   -0.048641\n",
       "2018-12-04   -0.079467\n",
       "2018-12-06   -0.080864\n",
       "2018-12-07   -0.102221\n",
       "2018-12-10   -0.100518\n",
       "2018-12-11   -0.100313\n",
       "2018-12-12   -0.095783\n",
       "2018-12-13   -0.096090\n",
       "2018-12-14   -0.112780\n",
       "2018-12-17   -0.130186\n",
       "2018-12-18   -0.131140\n",
       "2018-12-19   -0.144152\n",
       "2018-12-20   -0.158083\n",
       "2018-12-21   -0.180121\n",
       "2018-12-24   -0.201785\n",
       "2018-12-26   -0.161455\n",
       "2018-12-27   -0.155017\n",
       "2018-12-28   -0.156107\n",
       "2018-12-31   -0.148716\n",
       "Name: drawDown, Length: 5022, dtype: float64"
      ]
     },
     "execution_count": 21,
     "metadata": {},
     "output_type": "execute_result"
    }
   ],
   "source": [
    "SPY['value'] = (1+SPY['daily_ret']).cumprod()\n",
    "SPY['cummax'] = SPY['value'].cummax()\n",
    "SPY['drawDown'] = (SPY['value']/SPY['cummax']-1)\n",
    "SPY['drawDown']\n"
   ]
  },
  {
   "cell_type": "code",
   "execution_count": 22,
   "metadata": {},
   "outputs": [
    {
     "name": "stdout",
     "output_type": "stream",
     "text": [
      "-0.5647367075664627\n"
     ]
    }
   ],
   "source": [
    "SPY_maxDD = SPY['drawDown'].min()\n",
    "print(SPY_maxDD)"
   ]
  },
  {
   "cell_type": "code",
   "execution_count": 23,
   "metadata": {},
   "outputs": [
    {
     "data": {
      "text/plain": [
       "Date\n",
       "2009-03-09   -0.564737\n",
       "Name: drawDown, dtype: float64"
      ]
     },
     "execution_count": 23,
     "metadata": {},
     "output_type": "execute_result"
    }
   ],
   "source": [
    "SPY.loc[SPY['drawDown'] == SPY_maxDD]['drawDown']"
   ]
  },
  {
   "cell_type": "code",
   "execution_count": 24,
   "metadata": {},
   "outputs": [
    {
     "data": {
      "image/png": "[encoded data removed]",
      "text/plain": [
       "<Figure size 432x288 with 1 Axes>"
      ]
     },
     "metadata": {
      "needs_background": "light"
     },
     "output_type": "display_data"
    }
   ],
   "source": [
    "plt.plot(SPY['drawDown'])\n",
    "plt.plot(SPY.loc[SPY['drawDown'] == SPY_maxDD]['drawDown'].index, SPY_maxDD, 'ro')\n",
    "plt.legend()\n",
    "plt.show()"
   ]
  },
  {
   "cell_type": "markdown",
   "metadata": {},
   "source": [
    "# Problem 3\n"
   ]
  },
  {
   "cell_type": "code",
   "execution_count": 25,
   "metadata": {},
   "outputs": [],
   "source": [
    "universe = universe[1:]\n",
    "#universe.dtypes"
   ]
  },
  {
   "cell_type": "code",
   "execution_count": 26,
   "metadata": {},
   "outputs": [],
   "source": [
    "universe = universe.astype(float)\n",
    "#universe.dtypes"
   ]
  },
  {
   "cell_type": "markdown",
   "metadata": {},
   "source": [
    " the historical Return"
   ]
  },
  {
   "cell_type": "code",
   "execution_count": 27,
   "metadata": {
    "scrolled": true
   },
   "outputs": [
    {
     "data": {
      "text/plain": [
       "Fixed-Income: Treasury Inflation Protected Securities (TIPS)         0.437099\n",
       "Fixed-Income: U.S. Treasury Bonds and Investment Grade Corp Bonds    0.376141\n",
       "Fixed-Income: U.S. High Yield Corp Bonds                             0.544297\n",
       "Fixed-Income: Non U.S. Sovereign Bonds                               0.306478\n",
       "Equities: U.S. Large Cap Growth                                      0.529154\n",
       "Equities: U.S. Large Cap Value                                       0.587983\n",
       "Equities: U.S. Small Cap Growth                                      0.706208\n",
       "Equities: U.S. Small Cap Value                                       0.795998\n",
       "Equities: Developed Countries Non-US                                 0.401529\n",
       "Equities: Emerging Markets                                           0.884078\n",
       "Commodities                                                          0.262214\n",
       "Real Estate                                                          0.957580\n",
       "dtype: float64"
      ]
     },
     "execution_count": 27,
     "metadata": {},
     "output_type": "execute_result"
    }
   ],
   "source": [
    "universe_ret_mean = universe.mean()\n",
    "expect_ret = universe_ret_mean #*12\n",
    "expect_ret"
   ]
  },
  {
   "cell_type": "markdown",
   "metadata": {},
   "source": [
    "Estimate Covariance Martix"
   ]
  },
  {
   "cell_type": "code",
   "execution_count": 28,
   "metadata": {},
   "outputs": [],
   "source": [
    "universe_cov_matrix = universe.cov()\n",
    "#sigma = universe_cov_matrix *12\n",
    "#sigma"
   ]
  },
  {
   "cell_type": "code",
   "execution_count": 29,
   "metadata": {},
   "outputs": [],
   "source": [
    "def portfolio_calculation(weight, cov_matrix): \n",
    "    '''\n",
    "    This is function in order to calculate the portfolio return, volatility and Sharpe Ratio\n",
    "    '''\n",
    "    w = np.array(weight)\n",
    "\n",
    "    prof_return = np.sum(expect_ret * w* 12)  #annualized return\n",
    "    prof_volatility = np.sqrt(np.dot(w.T, np.dot(universe_cov_matrix * 12, w)))  \n",
    "    sharpe_ratio = (prof_return - risk_free_rate) / prof_volatility     \n",
    "    return np.array([prof_return, prof_volatility, sharpe_ratio])\n",
    "\n",
    "# minimize negative return = maxmize positive return\n",
    "def returns(weight):\n",
    "    return -portfolio_calculation(weight)[0]\n",
    "\n",
    "def volatility(weight):\n",
    "    return portfolio_calculation(weight)[1]\n",
    "\n",
    "# minimize negative Sharpe ratio = maximize positive Sharpe ratio\n",
    "def sharpe_ratio(weight):\n",
    "    return -portfolio_calculation(weight)[2]\n"
   ]
  },
  {
   "cell_type": "code",
   "execution_count": 30,
   "metadata": {},
   "outputs": [],
   "source": [
    "def results():\n",
    "    '''\n",
    "    return the weights of portfolio of minimum volatility, maximum return and maximum sharpe ratio\n",
    "    '''\n",
    "    num_universe = len(expect_ret.index) #number of asset classes\n",
    "    arg = ()\n",
    "    consts = ({'type': 'eq', 'fun': lambda x: np.sum(x) - 1}) #weights sum up to one\n",
    "    bnds = tuple((0.0, 1.0) for i in range(num_universe)) #not short-sell allowed so bond from 0 to 1\n",
    "    \n",
    "    min_volatility = sco.minimize(volatility, num_universe*[1./num_universe,],args= arg ,\n",
    "                        method='SLSQP', bounds=bnds, constraints=consts)\n",
    "    max_ret = sco.minimize(returns, num_universe*[1./num_universe,],args= arg ,\n",
    "                        method='SLSQP', bounds=bnds, constraints=consts)\n",
    "    max_sr = sco.minimize(sharpe_ratio, num_universe*[1./num_universe,],args= arg ,\n",
    "                        method='SLSQP', bounds=bnds, constraints=consts)\n",
    "\n",
    "    return min_volatility['x'].round(4), max_ret['x'].round(4), max_sr['x'].round(4)"
   ]
  },
  {
   "cell_type": "code",
   "execution_count": 31,
   "metadata": {},
   "outputs": [
    {
     "data": {
      "text/plain": [
       "(array([0.    , 0.9265, 0.    , 0.    , 0.013 , 0.0388, 0.0081, 0.    ,\n",
       "        0.    , 0.    , 0.0136, 0.    ]),\n",
       " array([0., 0., 0., 0., 0., 0., 0., 0., 0., 0., 0., 1.]),\n",
       " array([0.    , 0.8967, 0.0241, 0.    , 0.0058, 0.0144, 0.    , 0.0591,\n",
       "        0.    , 0.    , 0.    , 0.    ]))"
      ]
     },
     "execution_count": 31,
     "metadata": {},
     "output_type": "execute_result"
    }
   ],
   "source": [
    "risk_free_rate = 0 #assume risk free rate is 0\n",
    "results()"
   ]
  },
  {
   "cell_type": "code",
   "execution_count": 32,
   "metadata": {},
   "outputs": [],
   "source": [
    "def display_result():\n",
    "    '''\n",
    "    Display all weights clearly\n",
    "    '''\n",
    "\n",
    "    weights_min_vol, weights_max_ret, weights_max_sr = results()\n",
    "\n",
    "    min_vol = volatility(weights_min_vol)\n",
    "    prof_return1 = -returns(weights_min_vol)\n",
    "    SR = -sharpe_ratio(weights_min_vol)    \n",
    "    \n",
    "    minVolatility_allocation = pd.DataFrame(weights_min_vol, index=universe_cov_matrix.columns, columns=['Weights'])\n",
    "    print(\"Minimum Volatility Portfolio Allocation\\n\")\n",
    "    print(\"Minimum Volatility: {}%\".format(round(min_vol,2)))\n",
    "    print(\"Portfoilo Return: {}%\".format(round(prof_return1, 2)))\n",
    "    print(\"Portfoilo Sharpe Ratio: \", round(SR, 2))\n",
    "    print(\"-\"*60)\n",
    "    print(minVolatility_allocation)\n",
    "    \n",
    "    print('\\n')\n",
    "    print(\"-\"*60)\n",
    "    VOL = volatility(weights_max_ret)\n",
    "    max_return = -returns(weights_max_ret)\n",
    "    sr = -sharpe_ratio(weights_max_ret)    \n",
    "    maxReturn_allocation = pd.DataFrame(weights_max_ret, index=universe_cov_matrix.columns, columns=['Weights'])\n",
    "    print(\"Maximum Return Portfolio Allocation\\n\")\n",
    "    print(\"Volatility: {}%\".format(round(VOL,2)))\n",
    "    print(\"Portfoilo Return: {}%\".format(round(max_return, 2)))\n",
    "    print(\"Maximum Sharpe Ratio: \", round(sr, 2))\n",
    "    print(\"-\"*60)\n",
    "    print(maxReturn_allocation)     \n",
    "    \n",
    "    \n",
    "    print('\\n')\n",
    "    print(\"-\"*60)\n",
    "    vol = volatility(weights_max_sr)\n",
    "    prof_return2 = -returns(weights_max_sr)\n",
    "    max_SR = -sharpe_ratio(weights_max_sr)    \n",
    "    maxSharpeRatio_allocation = pd.DataFrame(weights_max_sr, index=universe_cov_matrix.columns, columns=['Weights'])\n",
    "    print(\"Maximum Sharpe Ratio Portfolio Allocation\\n\")\n",
    "    print(\"Volatility: {}%\".format(round(vol,2)))\n",
    "    print(\"Portfoilo Return: {}%\".format(round(prof_return2, 2)))\n",
    "    print(\"Maximum Sharpe Ratio: \", round(max_SR, 2))\n",
    "    print(\"-\"*60)\n",
    "    print(maxSharpeRatio_allocation)    \n",
    "    \n",
    "    "
   ]
  },
  {
   "cell_type": "markdown",
   "metadata": {},
   "source": [
    "#1, 2A  Minimum-variance portfolio and two other efficient frontier (max sharpe ratio portfolio and max return portfolio)"
   ]
  },
  {
   "cell_type": "code",
   "execution_count": 33,
   "metadata": {},
   "outputs": [
    {
     "name": "stdout",
     "output_type": "stream",
     "text": [
      "Minimum Volatility Portfolio Allocation\n",
      "\n",
      "Minimum Volatility: 3.2%\n",
      "Portfoilo Return: 4.65%\n",
      "Portfoilo Sharpe Ratio:  1.45\n",
      "------------------------------------------------------------\n",
      "                                                    Weights\n",
      "Fixed-Income: Treasury Inflation Protected Secu...   0.0000\n",
      "Fixed-Income: U.S. Treasury Bonds and Investmen...   0.9265\n",
      "Fixed-Income: U.S. High Yield Corp Bonds             0.0000\n",
      "Fixed-Income: Non U.S. Sovereign Bonds               0.0000\n",
      "Equities: U.S. Large Cap Growth                      0.0130\n",
      "Equities: U.S. Large Cap Value                       0.0388\n",
      "Equities: U.S. Small Cap Growth                      0.0081\n",
      "Equities: U.S. Small Cap Value                       0.0000\n",
      "Equities: Developed Countries Non-US                 0.0000\n",
      "Equities: Emerging Markets                           0.0000\n",
      "Commodities                                          0.0136\n",
      "Real Estate                                          0.0000\n",
      "\n",
      "\n",
      "------------------------------------------------------------\n",
      "Maximum Return Portfolio Allocation\n",
      "\n",
      "Volatility: 20.82%\n",
      "Portfoilo Return: 11.49%\n",
      "Maximum Sharpe Ratio:  0.55\n",
      "------------------------------------------------------------\n",
      "                                                    Weights\n",
      "Fixed-Income: Treasury Inflation Protected Secu...      0.0\n",
      "Fixed-Income: U.S. Treasury Bonds and Investmen...      0.0\n",
      "Fixed-Income: U.S. High Yield Corp Bonds                0.0\n",
      "Fixed-Income: Non U.S. Sovereign Bonds                  0.0\n",
      "Equities: U.S. Large Cap Growth                         0.0\n",
      "Equities: U.S. Large Cap Value                          0.0\n",
      "Equities: U.S. Small Cap Growth                         0.0\n",
      "Equities: U.S. Small Cap Value                          0.0\n",
      "Equities: Developed Countries Non-US                    0.0\n",
      "Equities: Emerging Markets                              0.0\n",
      "Commodities                                             0.0\n",
      "Real Estate                                             1.0\n",
      "\n",
      "\n",
      "------------------------------------------------------------\n",
      "Maximum Sharpe Ratio Portfolio Allocation\n",
      "\n",
      "Volatility: 3.3%\n",
      "Portfoilo Return: 4.91%\n",
      "Maximum Sharpe Ratio:  1.49\n",
      "------------------------------------------------------------\n",
      "                                                    Weights\n",
      "Fixed-Income: Treasury Inflation Protected Secu...   0.0000\n",
      "Fixed-Income: U.S. Treasury Bonds and Investmen...   0.8967\n",
      "Fixed-Income: U.S. High Yield Corp Bonds             0.0241\n",
      "Fixed-Income: Non U.S. Sovereign Bonds               0.0000\n",
      "Equities: U.S. Large Cap Growth                      0.0058\n",
      "Equities: U.S. Large Cap Value                       0.0144\n",
      "Equities: U.S. Small Cap Growth                      0.0000\n",
      "Equities: U.S. Small Cap Value                       0.0591\n",
      "Equities: Developed Countries Non-US                 0.0000\n",
      "Equities: Emerging Markets                           0.0000\n",
      "Commodities                                          0.0000\n",
      "Real Estate                                          0.0000\n"
     ]
    }
   ],
   "source": [
    "display_result()"
   ]
  },
  {
   "cell_type": "markdown",
   "metadata": {},
   "source": [
    "#2B According to the result above, we can see that the minimum-variance portfolio is not a combination of max-return portfolio and max-sharpe-ratio portfolio. In max return portfolio, putting all the money in real estate class, but weight is 0 in minimum-variance portfolio and max-return portfolio. So it disproves two fund therom."
   ]
  },
  {
   "cell_type": "markdown",
   "metadata": {},
   "source": [
    "#3. Plot both the old efficient frontier without the short-sell constraint and the new efficient frontier with the short-sell constraint on the same graph."
   ]
  },
  {
   "cell_type": "code",
   "execution_count": 34,
   "metadata": {},
   "outputs": [],
   "source": [
    "def results_with_short():\n",
    "    '''\n",
    "    calculate maximum return, minimum volatility and maximum Sharpe ratio\n",
    "    '''\n",
    "    num_universe = len(expect_ret.index)\n",
    "    arg = ()\n",
    "    consts = ({'type': 'eq', 'fun': lambda x: np.sum(x) - 1})\n",
    "    bnds = ()\n",
    "    min_volatility = sco.minimize(volatility, num_universe*[1./num_universe,],args= arg ,\n",
    "                        method='SLSQP', bounds=bnds, constraints=consts)\n",
    "    max_ret = sco.minimize(returns, num_universe*[1./num_universe,],args= arg ,\n",
    "                        method='SLSQP', bounds=bnds, constraints=consts)\n",
    "    max_sr = sco.minimize(sharpe_ratio, num_universe*[1./num_universe,],args= arg ,\n",
    "                        method='SLSQP', bounds=bnds, constraints=consts)\n",
    "\n",
    "    return min_volatility['x'].round(4), max_ret['x'].round(4), max_sr['x'].round(4)"
   ]
  },
  {
   "cell_type": "code",
   "execution_count": 35,
   "metadata": {},
   "outputs": [],
   "source": [
    "def efficient_frontier_without_short(target):\n",
    "    '''\n",
    "    return the weights of portfolio of minimum volatility, maximum return and maximum sharpe ratio\n",
    "    '''\n",
    "    num_universe = len(expect_ret.index) #number of asset classes\n",
    "    arg = ()\n",
    "    consts = ({'type': 'eq', 'fun': lambda x: np.sum(x) - 1},\n",
    "             {'type': 'eq', 'fun': lambda x: -returns(x) - target}) #expected return higher than target return\n",
    "    bnds = tuple((0.0, 1.0) for i in range(num_universe)) #not short-sell allowed so bond from 0 to 1\n",
    "    \n",
    "    min_volatility = sco.minimize(volatility, num_universe*[1./num_universe,],args= arg ,\n",
    "                        method='SLSQP', bounds=bnds, constraints=consts)\n",
    "    max_ret = sco.minimize(returns, num_universe*[1./num_universe,],args= arg ,\n",
    "                        method='SLSQP', bounds=bnds, constraints=consts)\n",
    "    max_sr = sco.minimize(sharpe_ratio, num_universe*[1./num_universe,],args= arg ,\n",
    "                        method='SLSQP', bounds=bnds, constraints=consts)\n",
    "\n",
    "    return min_volatility['x'].round(4), max_ret['x'].round(4), max_sr['x'].round(4)"
   ]
  },
  {
   "cell_type": "code",
   "execution_count": 36,
   "metadata": {},
   "outputs": [],
   "source": [
    "#def two_fund_thm_without_short(portion):\n",
    "#    weights_min_vol, weight_max_ret, weights_max_sr = results()\n",
    "#    return (1-portion)*weights_min_vol+portion*weights_max_sr\n",
    "\n",
    "def two_fund_thm_with_short(portion):\n",
    "    weights_min_vol, weight_max_ret, weights_max_sr = results_with_short()\n",
    "    return (1-portion)*weights_min_vol+portion*weights_max_sr"
   ]
  },
  {
   "cell_type": "code",
   "execution_count": 37,
   "metadata": {},
   "outputs": [],
   "source": [
    "c = np.array(np.linspace(0,1,100))\n",
    "targe_ret = np.linspace(4.65,5.25,100)\n",
    "port_ret_without_short = []\n",
    "port_vol_without_short = []\n",
    "port_ret_with_short = []\n",
    "port_vol_with_short = []\n",
    "\n",
    "\n",
    "for x in targe_ret:  \n",
    "    w1, w2, w3 = efficient_frontier_without_short(x)\n",
    "    portfolio_return1 = -returns(w1)\n",
    "    portfolio_vol1 = volatility(w1)\n",
    "    \n",
    "    port_ret_without_short.append(portfolio_return1)\n",
    "    port_vol_without_short.append(portfolio_vol1)\n",
    "    \n",
    "for i in c:    \n",
    "    portfolio_return2 = -returns(two_fund_thm_with_short(i))\n",
    "    portfolio_vol2 = volatility(two_fund_thm_with_short(i))\n",
    "\n",
    "    port_ret_with_short.append(portfolio_return2)\n",
    "    port_vol_with_short.append(portfolio_vol2)\n",
    "    \n"
   ]
  },
  {
   "cell_type": "code",
   "execution_count": 38,
   "metadata": {},
   "outputs": [
    {
     "data": {
      "image/png": "[encoded data removed]",
      "text/plain": [
       "<Figure size 1080x360 with 1 Axes>"
      ]
     },
     "metadata": {
      "needs_background": "light"
     },
     "output_type": "display_data"
    }
   ],
   "source": [
    "plt.figure(figsize=(15,5))\n",
    "plt.plot(port_vol_with_short, port_ret_with_short, label='With Short-Sell')\n",
    "plt.plot(port_vol_without_short, port_ret_without_short, label='Without Short-Sell')\n",
    "plt.xlabel('Expected Volatility')\n",
    "plt.ylabel('Expected Return')\n",
    "plt.legend()\n",
    "plt.grid()\n",
    "plt.show()"
   ]
  },
  {
   "cell_type": "code",
   "execution_count": null,
   "metadata": {},
   "outputs": [],
   "source": []
  }
 ],
 "metadata": {
  "kernelspec": {
   "display_name": "Python 3",
   "language": "python",
   "name": "python3"
  },
  "language_info": {
   "codemirror_mode": {
    "name": "ipython",
    "version": 3
   },
   "file_extension": ".py",
   "mimetype": "text/x-python",
   "name": "python",
   "nbconvert_exporter": "python",
   "pygments_lexer": "ipython3",
   "version": "3.7.0"
  }
 },
 "nbformat": 4,
 "nbformat_minor": 2
}
